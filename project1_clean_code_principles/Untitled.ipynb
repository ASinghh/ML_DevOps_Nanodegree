{
 "cells": [
  {
   "cell_type": "code",
   "execution_count": 4,
   "id": "c76128f9",
   "metadata": {},
   "outputs": [],
   "source": [
    "!autopep8 --in-place --aggressive --aggressive churn_library.py"
   ]
  },
  {
   "cell_type": "code",
   "execution_count": 9,
   "id": "c40a300c",
   "metadata": {},
   "outputs": [
    {
     "name": "stdout",
     "output_type": "stream",
     "text": [
      "************* Module churn_library\n",
      "churn_library.py:40:0: W0102: Dangerous default value [] as argument (dangerous-default-value)\n",
      "churn_library.py:68:0: C0103: Argument name \"df\" doesn't conform to snake_case naming style (invalid-name)\n",
      "churn_library.py:117:0: C0103: Argument name \"df\" doesn't conform to snake_case naming style (invalid-name)\n",
      "churn_library.py:146:0: C0103: Argument name \"df\" doesn't conform to snake_case naming style (invalid-name)\n",
      "churn_library.py:176:4: C0103: Variable name \"y\" doesn't conform to snake_case naming style (invalid-name)\n",
      "churn_library.py:179:4: C0103: Variable name \"X\" doesn't conform to snake_case naming style (invalid-name)\n",
      "churn_library.py:206:4: C0103: Variable name \"X_train\" doesn't conform to snake_case naming style (invalid-name)\n",
      "churn_library.py:206:13: C0103: Variable name \"X_test\" doesn't conform to snake_case naming style (invalid-name)\n",
      "churn_library.py:212:0: R0913: Too many arguments (6/5) (too-many-arguments)\n",
      "churn_library.py:251:0: C0103: Argument name \"X_data\" doesn't conform to snake_case naming style (invalid-name)\n",
      "churn_library.py:298:0: C0103: Argument name \"X_test\" doesn't conform to snake_case naming style (invalid-name)\n",
      "churn_library.py:316:0: C0103: Argument name \"df\" doesn't conform to snake_case naming style (invalid-name)\n",
      "churn_library.py:336:4: C0103: Variable name \"X_train\" doesn't conform to snake_case naming style (invalid-name)\n",
      "churn_library.py:336:13: C0103: Variable name \"X_test\" doesn't conform to snake_case naming style (invalid-name)\n",
      "\n",
      "------------------------------------------------------------------\n",
      "\n",
      "Your code has been rated at 8.82/10 (previous run: 8.74/10, +0.08)\n",
      "\n",
      "\n",
      "\n"
     ]
    }
   ],
   "source": [
    "!pylint churn_library.py"
   ]
  },
  {
   "cell_type": "code",
   "execution_count": null,
   "id": "7ca785c8",
   "metadata": {},
   "outputs": [],
   "source": []
  }
 ],
 "metadata": {
  "kernelspec": {
   "display_name": "Python 3 (ipykernel)",
   "language": "python",
   "name": "python3"
  },
  "language_info": {
   "codemirror_mode": {
    "name": "ipython",
    "version": 3
   },
   "file_extension": ".py",
   "mimetype": "text/x-python",
   "name": "python",
   "nbconvert_exporter": "python",
   "pygments_lexer": "ipython3",
   "version": "3.9.7"
  }
 },
 "nbformat": 4,
 "nbformat_minor": 5
}
