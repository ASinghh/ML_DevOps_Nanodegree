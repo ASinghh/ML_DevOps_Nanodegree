{
 "cells": [
  {
   "cell_type": "code",
   "execution_count": 69,
   "id": "c76128f9",
   "metadata": {},
   "outputs": [],
   "source": [
    "!autopep8 --in-place --aggressive --aggressive churn_script_logging_and_tests.py"
   ]
  },
  {
   "cell_type": "code",
   "execution_count": 70,
   "id": "c40a300c",
   "metadata": {},
   "outputs": [
    {
     "name": "stdout",
     "output_type": "stream",
     "text": [
      "************* Module churn_script_logging_and_tests\n",
      "churn_script_logging_and_tests.py:38:15: E1101: Instance of 'TextFileReader' has no 'shape' member (no-member)\n",
      "churn_script_logging_and_tests.py:104:12: C0103: Variable name \"df\" doesn't conform to snake_case naming style (invalid-name)\n",
      "churn_script_logging_and_tests.py:107:16: E1101: Instance of 'TextFileReader' has no 'shape' member (no-member)\n",
      "churn_script_logging_and_tests.py:108:16: E1101: Instance of 'TextFileReader' has no 'shape' member (no-member)\n",
      "churn_script_logging_and_tests.py:127:5: C0103: Variable name \"X_train\" doesn't conform to snake_case naming style (invalid-name)\n",
      "churn_script_logging_and_tests.py:127:14: C0103: Variable name \"X_test\" doesn't conform to snake_case naming style (invalid-name)\n",
      "churn_script_logging_and_tests.py:138:37: E1101: Instance of 'TextFileReader' has no 'shape' member (no-member)\n",
      "churn_script_logging_and_tests.py:139:37: E1101: Instance of 'TextFileReader' has no 'shape' member (no-member)\n",
      "churn_script_logging_and_tests.py:140:37: E1101: Instance of 'TextFileReader' has no 'shape' member (no-member)\n",
      "churn_script_logging_and_tests.py:206:16: W1201: Use lazy % formatting in logging functions (logging-not-lazy)\n",
      "churn_script_logging_and_tests.py:208:16: W1201: Use lazy % formatting in logging functions (logging-not-lazy)\n",
      "\n",
      "------------------------------------------------------------------\n",
      "\n",
      "Your code has been rated at 6.76/10 (previous run: 6.76/10, +0.00)\n",
      "\n",
      "\n",
      "\n"
     ]
    }
   ],
   "source": [
    "!pylint churn_script_logging_and_tests.py"
   ]
  },
  {
   "cell_type": "code",
   "execution_count": 73,
   "id": "7ca785c8",
   "metadata": {},
   "outputs": [
    {
     "name": "stdout",
     "output_type": "stream",
     "text": [
      "============================= test session starts =============================\n",
      "platform win32 -- Python 3.9.7, pytest-6.2.4, py-1.10.0, pluggy-0.13.1\n",
      "rootdir: C:\\Users\\Ashutosh_Singh8\\Desktop\\ML_DevOps_Nanodegree\\project1_clean_code_principles\n",
      "plugins: anyio-2.2.0\n",
      "collected 5 items\n",
      "\n",
      "churn_script_logging_and_tests.py .....                                  [100%]\n",
      "\n",
      "============================== warnings summary ===============================\n",
      "..\\..\\..\\Anaconda3\\lib\\site-packages\\pyreadline\\py3k_compat.py:8\n",
      "  C:\\Users\\Ashutosh_Singh8\\Anaconda3\\lib\\site-packages\\pyreadline\\py3k_compat.py:8: DeprecationWarning: Using or importing the ABCs from 'collections' instead of from 'collections.abc' is deprecated since Python 3.3, and in 3.10 it will stop working\n",
      "    return isinstance(x, collections.Callable)\n",
      "\n",
      "..\\..\\..\\Anaconda3\\lib\\site-packages\\win32\\lib\\pywintypes.py:2\n",
      "  C:\\Users\\Ashutosh_Singh8\\Anaconda3\\lib\\site-packages\\win32\\lib\\pywintypes.py:2: DeprecationWarning: the imp module is deprecated in favour of importlib; see the module's documentation for alternative uses\n",
      "    import imp, sys, os\n",
      "\n",
      "churn_script_logging_and_tests.py::test_train_models\n",
      "  C:\\Users\\Ashutosh_Singh8\\Anaconda3\\lib\\site-packages\\sklearn\\linear_model\\_logistic.py:763: ConvergenceWarning: lbfgs failed to converge (status=1):\n",
      "  STOP: TOTAL NO. of ITERATIONS REACHED LIMIT.\n",
      "  \n",
      "  Increase the number of iterations (max_iter) or scale the data as shown in:\n",
      "      https://scikit-learn.org/stable/modules/preprocessing.html\n",
      "  Please also refer to the documentation for alternative solver options:\n",
      "      https://scikit-learn.org/stable/modules/linear_model.html#logistic-regression\n",
      "    n_iter_i = _check_optimize_result(\n",
      "\n",
      "-- Docs: https://docs.pytest.org/en/stable/warnings.html\n",
      "======================= 5 passed, 3 warnings in 33.97s ========================\n"
     ]
    }
   ],
   "source": [
    "!pytest churn_script_logging_and_tests.py"
   ]
  },
  {
   "cell_type": "code",
   "execution_count": 8,
   "id": "69cbc46b",
   "metadata": {},
   "outputs": [],
   "source": [
    "dataframe = cls.import_data(\"./data/bank_data.csv\")\n",
    "dataframe2 = dataframe.copy(\"deep\")\n",
    "cat_list = [\n",
    "        'Gender',\n",
    "        'Education_Level',\n",
    "        'Marital_Status',\n",
    "        'Income_Category',\n",
    "        'Card_Category']\n",
    "df = cls.encoder_helper(dataframe2, cat_list, \"chirn\")"
   ]
  },
  {
   "cell_type": "code",
   "execution_count": 13,
   "id": "24512022",
   "metadata": {},
   "outputs": [
    {
     "data": {
      "text/plain": [
       "True"
      ]
     },
     "execution_count": 13,
     "metadata": {},
     "output_type": "execute_result"
    }
   ],
   "source": [
    "df.shape == (dataframe.shape[0], dataframe.shape[1]+6)"
   ]
  },
  {
   "cell_type": "code",
   "execution_count": 14,
   "id": "039994d7",
   "metadata": {},
   "outputs": [
    {
     "data": {
      "text/plain": [
       "(10127, 22)"
      ]
     },
     "execution_count": 14,
     "metadata": {},
     "output_type": "execute_result"
    }
   ],
   "source": [
    "dataframe.shape"
   ]
  },
  {
   "cell_type": "code",
   "execution_count": 15,
   "id": "e59550d6",
   "metadata": {},
   "outputs": [
    {
     "ename": "TypeError",
     "evalue": "object of type 'NoneType' has no len()",
     "output_type": "error",
     "traceback": [
      "\u001b[1;31m---------------------------------------------------------------------------\u001b[0m",
      "\u001b[1;31mTypeError\u001b[0m                                 Traceback (most recent call last)",
      "\u001b[1;32mC:\\Users\\ASHUTO~1\\AppData\\Local\\Temp/ipykernel_33280/827080389.py\u001b[0m in \u001b[0;36m<module>\u001b[1;34m\u001b[0m\n\u001b[0;32m      1\u001b[0m \u001b[0mk\u001b[0m \u001b[1;33m=\u001b[0m \u001b[1;32mNone\u001b[0m\u001b[1;33m\u001b[0m\u001b[1;33m\u001b[0m\u001b[0m\n\u001b[1;32m----> 2\u001b[1;33m \u001b[0mlen\u001b[0m\u001b[1;33m(\u001b[0m\u001b[0mk\u001b[0m\u001b[1;33m)\u001b[0m\u001b[1;33m\u001b[0m\u001b[1;33m\u001b[0m\u001b[0m\n\u001b[0m",
      "\u001b[1;31mTypeError\u001b[0m: object of type 'NoneType' has no len()"
     ]
    }
   ],
   "source": [
    "k = None\n",
    "len(k)"
   ]
  },
  {
   "cell_type": "code",
   "execution_count": 1,
   "id": "dfa0ed54",
   "metadata": {},
   "outputs": [
    {
     "data": {
      "text/plain": [
       "'hello'"
      ]
     },
     "execution_count": 1,
     "metadata": {},
     "output_type": "execute_result"
    }
   ],
   "source": [
    "k = \"hello\"\n",
    "\n",
    "k[0:25]"
   ]
  },
  {
   "cell_type": "code",
   "execution_count": null,
   "id": "84aa706a",
   "metadata": {},
   "outputs": [],
   "source": []
  }
 ],
 "metadata": {
  "kernelspec": {
   "display_name": "Python 3 (ipykernel)",
   "language": "python",
   "name": "python3"
  },
  "language_info": {
   "codemirror_mode": {
    "name": "ipython",
    "version": 3
   },
   "file_extension": ".py",
   "mimetype": "text/x-python",
   "name": "python",
   "nbconvert_exporter": "python",
   "pygments_lexer": "ipython3",
   "version": "3.9.7"
  }
 },
 "nbformat": 4,
 "nbformat_minor": 5
}
